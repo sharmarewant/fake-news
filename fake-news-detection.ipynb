{
 "cells": [
  {
   "cell_type": "code",
   "execution_count": 38,
   "metadata": {
    "execution": {
     "iopub.execute_input": "2024-09-16T22:41:24.238881Z",
     "iopub.status.busy": "2024-09-16T22:41:24.238462Z",
     "iopub.status.idle": "2024-09-16T22:41:24.245662Z",
     "shell.execute_reply": "2024-09-16T22:41:24.244516Z",
     "shell.execute_reply.started": "2024-09-16T22:41:24.238841Z"
    },
    "trusted": true
   },
   "outputs": [],
   "source": [
    "import pandas as pd\n",
    "import numpy as np\n",
    "import re\n",
    "import seaborn as sns\n",
    "\n",
    "\n",
    "from sklearn.feature_extraction.text import TfidfVectorizer\n",
    "from sklearn.model_selection import cross_val_predict,train_test_split\n",
    "from sklearn.metrics import accuracy_score, confusion_matrix, classification_report, accuracy_score, precision_score, recall_score, f1_score\n",
    "from sklearn.linear_model import LogisticRegression\n",
    "from sklearn.ensemble import RandomForestClassifier\n"
   ]
  },
  {
   "cell_type": "code",
   "execution_count": 39,
   "metadata": {
    "execution": {
     "iopub.execute_input": "2024-09-16T22:46:28.793991Z",
     "iopub.status.busy": "2024-09-16T22:46:28.793488Z",
     "iopub.status.idle": "2024-09-16T22:46:32.267794Z",
     "shell.execute_reply": "2024-09-16T22:46:32.266573Z",
     "shell.execute_reply.started": "2024-09-16T22:46:28.793949Z"
    },
    "trusted": true
   },
   "outputs": [],
   "source": [
    "\n",
    "\n",
    "true = pd.read_csv(\"True.csv\")\n",
    "false = pd.read_csv(\"Fake.csv\")"
   ]
  },
  {
   "cell_type": "code",
   "execution_count": 40,
   "metadata": {
    "execution": {
     "iopub.execute_input": "2024-09-16T22:46:32.270275Z",
     "iopub.status.busy": "2024-09-16T22:46:32.269896Z",
     "iopub.status.idle": "2024-09-16T22:46:32.281376Z",
     "shell.execute_reply": "2024-09-16T22:46:32.280286Z",
     "shell.execute_reply.started": "2024-09-16T22:46:32.270235Z"
    },
    "trusted": true
   },
   "outputs": [
    {
     "data": {
      "text/html": [
       "<div>\n",
       "<style scoped>\n",
       "    .dataframe tbody tr th:only-of-type {\n",
       "        vertical-align: middle;\n",
       "    }\n",
       "\n",
       "    .dataframe tbody tr th {\n",
       "        vertical-align: top;\n",
       "    }\n",
       "\n",
       "    .dataframe thead th {\n",
       "        text-align: right;\n",
       "    }\n",
       "</style>\n",
       "<table border=\"1\" class=\"dataframe\">\n",
       "  <thead>\n",
       "    <tr style=\"text-align: right;\">\n",
       "      <th></th>\n",
       "      <th>title</th>\n",
       "      <th>text</th>\n",
       "      <th>subject</th>\n",
       "      <th>date</th>\n",
       "      <th>Label</th>\n",
       "    </tr>\n",
       "  </thead>\n",
       "  <tbody>\n",
       "    <tr>\n",
       "      <th>0</th>\n",
       "      <td>As U.S. budget fight looms, Republicans flip t...</td>\n",
       "      <td>WASHINGTON (Reuters) - The head of a conservat...</td>\n",
       "      <td>politicsNews</td>\n",
       "      <td>December 31, 2017</td>\n",
       "      <td>1</td>\n",
       "    </tr>\n",
       "    <tr>\n",
       "      <th>1</th>\n",
       "      <td>U.S. military to accept transgender recruits o...</td>\n",
       "      <td>WASHINGTON (Reuters) - Transgender people will...</td>\n",
       "      <td>politicsNews</td>\n",
       "      <td>December 29, 2017</td>\n",
       "      <td>1</td>\n",
       "    </tr>\n",
       "    <tr>\n",
       "      <th>2</th>\n",
       "      <td>Senior U.S. Republican senator: 'Let Mr. Muell...</td>\n",
       "      <td>WASHINGTON (Reuters) - The special counsel inv...</td>\n",
       "      <td>politicsNews</td>\n",
       "      <td>December 31, 2017</td>\n",
       "      <td>1</td>\n",
       "    </tr>\n",
       "    <tr>\n",
       "      <th>3</th>\n",
       "      <td>FBI Russia probe helped by Australian diplomat...</td>\n",
       "      <td>WASHINGTON (Reuters) - Trump campaign adviser ...</td>\n",
       "      <td>politicsNews</td>\n",
       "      <td>December 30, 2017</td>\n",
       "      <td>1</td>\n",
       "    </tr>\n",
       "    <tr>\n",
       "      <th>4</th>\n",
       "      <td>Trump wants Postal Service to charge 'much mor...</td>\n",
       "      <td>SEATTLE/WASHINGTON (Reuters) - President Donal...</td>\n",
       "      <td>politicsNews</td>\n",
       "      <td>December 29, 2017</td>\n",
       "      <td>1</td>\n",
       "    </tr>\n",
       "    <tr>\n",
       "      <th>...</th>\n",
       "      <td>...</td>\n",
       "      <td>...</td>\n",
       "      <td>...</td>\n",
       "      <td>...</td>\n",
       "      <td>...</td>\n",
       "    </tr>\n",
       "    <tr>\n",
       "      <th>21412</th>\n",
       "      <td>'Fully committed' NATO backs new U.S. approach...</td>\n",
       "      <td>BRUSSELS (Reuters) - NATO allies on Tuesday we...</td>\n",
       "      <td>worldnews</td>\n",
       "      <td>August 22, 2017</td>\n",
       "      <td>1</td>\n",
       "    </tr>\n",
       "    <tr>\n",
       "      <th>21413</th>\n",
       "      <td>LexisNexis withdrew two products from Chinese ...</td>\n",
       "      <td>LONDON (Reuters) - LexisNexis, a provider of l...</td>\n",
       "      <td>worldnews</td>\n",
       "      <td>August 22, 2017</td>\n",
       "      <td>1</td>\n",
       "    </tr>\n",
       "    <tr>\n",
       "      <th>21414</th>\n",
       "      <td>Minsk cultural hub becomes haven from authorities</td>\n",
       "      <td>MINSK (Reuters) - In the shadow of disused Sov...</td>\n",
       "      <td>worldnews</td>\n",
       "      <td>August 22, 2017</td>\n",
       "      <td>1</td>\n",
       "    </tr>\n",
       "    <tr>\n",
       "      <th>21415</th>\n",
       "      <td>Vatican upbeat on possibility of Pope Francis ...</td>\n",
       "      <td>MOSCOW (Reuters) - Vatican Secretary of State ...</td>\n",
       "      <td>worldnews</td>\n",
       "      <td>August 22, 2017</td>\n",
       "      <td>1</td>\n",
       "    </tr>\n",
       "    <tr>\n",
       "      <th>21416</th>\n",
       "      <td>Indonesia to buy $1.14 billion worth of Russia...</td>\n",
       "      <td>JAKARTA (Reuters) - Indonesia will buy 11 Sukh...</td>\n",
       "      <td>worldnews</td>\n",
       "      <td>August 22, 2017</td>\n",
       "      <td>1</td>\n",
       "    </tr>\n",
       "  </tbody>\n",
       "</table>\n",
       "<p>21417 rows × 5 columns</p>\n",
       "</div>"
      ],
      "text/plain": [
       "                                                   title  \\\n",
       "0      As U.S. budget fight looms, Republicans flip t...   \n",
       "1      U.S. military to accept transgender recruits o...   \n",
       "2      Senior U.S. Republican senator: 'Let Mr. Muell...   \n",
       "3      FBI Russia probe helped by Australian diplomat...   \n",
       "4      Trump wants Postal Service to charge 'much mor...   \n",
       "...                                                  ...   \n",
       "21412  'Fully committed' NATO backs new U.S. approach...   \n",
       "21413  LexisNexis withdrew two products from Chinese ...   \n",
       "21414  Minsk cultural hub becomes haven from authorities   \n",
       "21415  Vatican upbeat on possibility of Pope Francis ...   \n",
       "21416  Indonesia to buy $1.14 billion worth of Russia...   \n",
       "\n",
       "                                                    text       subject  \\\n",
       "0      WASHINGTON (Reuters) - The head of a conservat...  politicsNews   \n",
       "1      WASHINGTON (Reuters) - Transgender people will...  politicsNews   \n",
       "2      WASHINGTON (Reuters) - The special counsel inv...  politicsNews   \n",
       "3      WASHINGTON (Reuters) - Trump campaign adviser ...  politicsNews   \n",
       "4      SEATTLE/WASHINGTON (Reuters) - President Donal...  politicsNews   \n",
       "...                                                  ...           ...   \n",
       "21412  BRUSSELS (Reuters) - NATO allies on Tuesday we...     worldnews   \n",
       "21413  LONDON (Reuters) - LexisNexis, a provider of l...     worldnews   \n",
       "21414  MINSK (Reuters) - In the shadow of disused Sov...     worldnews   \n",
       "21415  MOSCOW (Reuters) - Vatican Secretary of State ...     worldnews   \n",
       "21416  JAKARTA (Reuters) - Indonesia will buy 11 Sukh...     worldnews   \n",
       "\n",
       "                     date  Label  \n",
       "0      December 31, 2017       1  \n",
       "1      December 29, 2017       1  \n",
       "2      December 31, 2017       1  \n",
       "3      December 30, 2017       1  \n",
       "4      December 29, 2017       1  \n",
       "...                   ...    ...  \n",
       "21412    August 22, 2017       1  \n",
       "21413    August 22, 2017       1  \n",
       "21414    August 22, 2017       1  \n",
       "21415    August 22, 2017       1  \n",
       "21416    August 22, 2017       1  \n",
       "\n",
       "[21417 rows x 5 columns]"
      ]
     },
     "execution_count": 40,
     "metadata": {},
     "output_type": "execute_result"
    }
   ],
   "source": [
    "true['Label']=1\n",
    "false['Label']=0\n",
    "true \n"
   ]
  },
  {
   "cell_type": "code",
   "execution_count": 41,
   "metadata": {
    "execution": {
     "iopub.execute_input": "2024-09-16T22:46:32.998549Z",
     "iopub.status.busy": "2024-09-16T22:46:32.997712Z",
     "iopub.status.idle": "2024-09-16T22:46:33.025840Z",
     "shell.execute_reply": "2024-09-16T22:46:33.024811Z",
     "shell.execute_reply.started": "2024-09-16T22:46:32.998505Z"
    },
    "trusted": true
   },
   "outputs": [],
   "source": [
    "data=pd.concat([true,false],axis=0)\n",
    "data=data.sample(frac=1)"
   ]
  },
  {
   "cell_type": "code",
   "execution_count": 42,
   "metadata": {
    "execution": {
     "iopub.execute_input": "2024-09-16T22:46:33.796640Z",
     "iopub.status.busy": "2024-09-16T22:46:33.796117Z",
     "iopub.status.idle": "2024-09-16T22:46:33.803717Z",
     "shell.execute_reply": "2024-09-16T22:46:33.802521Z",
     "shell.execute_reply.started": "2024-09-16T22:46:33.796593Z"
    },
    "trusted": true
   },
   "outputs": [],
   "source": [
    "data.reset_index(inplace=True)\n"
   ]
  },
  {
   "cell_type": "code",
   "execution_count": 43,
   "metadata": {
    "execution": {
     "iopub.execute_input": "2024-09-16T22:46:34.414849Z",
     "iopub.status.busy": "2024-09-16T22:46:34.414298Z",
     "iopub.status.idle": "2024-09-16T22:46:34.437211Z",
     "shell.execute_reply": "2024-09-16T22:46:34.436063Z",
     "shell.execute_reply.started": "2024-09-16T22:46:34.414799Z"
    },
    "trusted": true
   },
   "outputs": [
    {
     "data": {
      "text/html": [
       "<div>\n",
       "<style scoped>\n",
       "    .dataframe tbody tr th:only-of-type {\n",
       "        vertical-align: middle;\n",
       "    }\n",
       "\n",
       "    .dataframe tbody tr th {\n",
       "        vertical-align: top;\n",
       "    }\n",
       "\n",
       "    .dataframe thead th {\n",
       "        text-align: right;\n",
       "    }\n",
       "</style>\n",
       "<table border=\"1\" class=\"dataframe\">\n",
       "  <thead>\n",
       "    <tr style=\"text-align: right;\">\n",
       "      <th></th>\n",
       "      <th>index</th>\n",
       "      <th>title</th>\n",
       "      <th>text</th>\n",
       "      <th>subject</th>\n",
       "      <th>date</th>\n",
       "      <th>Label</th>\n",
       "    </tr>\n",
       "  </thead>\n",
       "  <tbody>\n",
       "    <tr>\n",
       "      <th>0</th>\n",
       "      <td>6666</td>\n",
       "      <td>FREAK OUT: Republicans Will HATE That This Fa...</td>\n",
       "      <td>Comedian and actor Will Ferrell has been cast ...</td>\n",
       "      <td>News</td>\n",
       "      <td>April 27, 2016</td>\n",
       "      <td>0</td>\n",
       "    </tr>\n",
       "    <tr>\n",
       "      <th>1</th>\n",
       "      <td>3496</td>\n",
       "      <td>Texas Governor signs Dallas, Houston pension b...</td>\n",
       "      <td>(Reuters) - Texas Governor Greg Abbott signed ...</td>\n",
       "      <td>politicsNews</td>\n",
       "      <td>May 31, 2017</td>\n",
       "      <td>1</td>\n",
       "    </tr>\n",
       "    <tr>\n",
       "      <th>2</th>\n",
       "      <td>14909</td>\n",
       "      <td>U.S. to fight Islamic State in Syria 'as long ...</td>\n",
       "      <td>WASHINGTON (Reuters) - The U.S. military will ...</td>\n",
       "      <td>worldnews</td>\n",
       "      <td>November 14, 2017</td>\n",
       "      <td>1</td>\n",
       "    </tr>\n",
       "    <tr>\n",
       "      <th>3</th>\n",
       "      <td>8142</td>\n",
       "      <td>Ted Cruz Gets His A** Handed To Him By Rachel...</td>\n",
       "      <td>Rachel Maddow noticed Ted Cruz bragging about ...</td>\n",
       "      <td>News</td>\n",
       "      <td>February 13, 2016</td>\n",
       "      <td>0</td>\n",
       "    </tr>\n",
       "    <tr>\n",
       "      <th>4</th>\n",
       "      <td>15269</td>\n",
       "      <td>(VIDEO) UNIVISION’S JORGE RAMOS GETS A TONGUE ...</td>\n",
       "      <td>A mystery man gives Univision anchor Jorge Ram...</td>\n",
       "      <td>politics</td>\n",
       "      <td>Aug 26, 2015</td>\n",
       "      <td>0</td>\n",
       "    </tr>\n",
       "  </tbody>\n",
       "</table>\n",
       "</div>"
      ],
      "text/plain": [
       "   index                                              title  \\\n",
       "0   6666   FREAK OUT: Republicans Will HATE That This Fa...   \n",
       "1   3496  Texas Governor signs Dallas, Houston pension b...   \n",
       "2  14909  U.S. to fight Islamic State in Syria 'as long ...   \n",
       "3   8142   Ted Cruz Gets His A** Handed To Him By Rachel...   \n",
       "4  15269  (VIDEO) UNIVISION’S JORGE RAMOS GETS A TONGUE ...   \n",
       "\n",
       "                                                text       subject  \\\n",
       "0  Comedian and actor Will Ferrell has been cast ...          News   \n",
       "1  (Reuters) - Texas Governor Greg Abbott signed ...  politicsNews   \n",
       "2  WASHINGTON (Reuters) - The U.S. military will ...     worldnews   \n",
       "3  Rachel Maddow noticed Ted Cruz bragging about ...          News   \n",
       "4  A mystery man gives Univision anchor Jorge Ram...      politics   \n",
       "\n",
       "                 date  Label  \n",
       "0      April 27, 2016      0  \n",
       "1       May 31, 2017       1  \n",
       "2  November 14, 2017       1  \n",
       "3   February 13, 2016      0  \n",
       "4        Aug 26, 2015      0  "
      ]
     },
     "execution_count": 43,
     "metadata": {},
     "output_type": "execute_result"
    }
   ],
   "source": [
    "data.head()"
   ]
  },
  {
   "cell_type": "code",
   "execution_count": 44,
   "metadata": {
    "execution": {
     "iopub.execute_input": "2024-09-16T22:46:35.038966Z",
     "iopub.status.busy": "2024-09-16T22:46:35.038427Z",
     "iopub.status.idle": "2024-09-16T22:46:35.081144Z",
     "shell.execute_reply": "2024-09-16T22:46:35.079825Z",
     "shell.execute_reply.started": "2024-09-16T22:46:35.038918Z"
    },
    "trusted": true
   },
   "outputs": [
    {
     "data": {
      "text/plain": [
       "index      0\n",
       "title      0\n",
       "text       0\n",
       "subject    0\n",
       "date       0\n",
       "Label      0\n",
       "dtype: int64"
      ]
     },
     "execution_count": 44,
     "metadata": {},
     "output_type": "execute_result"
    }
   ],
   "source": [
    "\n",
    "data.isnull().sum()"
   ]
  },
  {
   "cell_type": "code",
   "execution_count": 45,
   "metadata": {
    "execution": {
     "iopub.execute_input": "2024-09-16T22:46:36.358505Z",
     "iopub.status.busy": "2024-09-16T22:46:36.357287Z",
     "iopub.status.idle": "2024-09-16T22:46:36.370737Z",
     "shell.execute_reply": "2024-09-16T22:46:36.369356Z",
     "shell.execute_reply.started": "2024-09-16T22:46:36.358447Z"
    },
    "trusted": true
   },
   "outputs": [],
   "source": [
    "data=data.drop(['title','subject','date','index'],axis=1)"
   ]
  },
  {
   "cell_type": "code",
   "execution_count": 46,
   "metadata": {
    "execution": {
     "iopub.execute_input": "2024-09-16T22:46:37.406055Z",
     "iopub.status.busy": "2024-09-16T22:46:37.405554Z",
     "iopub.status.idle": "2024-09-16T22:46:37.419956Z",
     "shell.execute_reply": "2024-09-16T22:46:37.418876Z",
     "shell.execute_reply.started": "2024-09-16T22:46:37.406008Z"
    },
    "trusted": true
   },
   "outputs": [
    {
     "data": {
      "text/html": [
       "<div>\n",
       "<style scoped>\n",
       "    .dataframe tbody tr th:only-of-type {\n",
       "        vertical-align: middle;\n",
       "    }\n",
       "\n",
       "    .dataframe tbody tr th {\n",
       "        vertical-align: top;\n",
       "    }\n",
       "\n",
       "    .dataframe thead th {\n",
       "        text-align: right;\n",
       "    }\n",
       "</style>\n",
       "<table border=\"1\" class=\"dataframe\">\n",
       "  <thead>\n",
       "    <tr style=\"text-align: right;\">\n",
       "      <th></th>\n",
       "      <th>text</th>\n",
       "      <th>Label</th>\n",
       "    </tr>\n",
       "  </thead>\n",
       "  <tbody>\n",
       "    <tr>\n",
       "      <th>0</th>\n",
       "      <td>Comedian and actor Will Ferrell has been cast ...</td>\n",
       "      <td>0</td>\n",
       "    </tr>\n",
       "    <tr>\n",
       "      <th>1</th>\n",
       "      <td>(Reuters) - Texas Governor Greg Abbott signed ...</td>\n",
       "      <td>1</td>\n",
       "    </tr>\n",
       "    <tr>\n",
       "      <th>2</th>\n",
       "      <td>WASHINGTON (Reuters) - The U.S. military will ...</td>\n",
       "      <td>1</td>\n",
       "    </tr>\n",
       "    <tr>\n",
       "      <th>3</th>\n",
       "      <td>Rachel Maddow noticed Ted Cruz bragging about ...</td>\n",
       "      <td>0</td>\n",
       "    </tr>\n",
       "    <tr>\n",
       "      <th>4</th>\n",
       "      <td>A mystery man gives Univision anchor Jorge Ram...</td>\n",
       "      <td>0</td>\n",
       "    </tr>\n",
       "  </tbody>\n",
       "</table>\n",
       "</div>"
      ],
      "text/plain": [
       "                                                text  Label\n",
       "0  Comedian and actor Will Ferrell has been cast ...      0\n",
       "1  (Reuters) - Texas Governor Greg Abbott signed ...      1\n",
       "2  WASHINGTON (Reuters) - The U.S. military will ...      1\n",
       "3  Rachel Maddow noticed Ted Cruz bragging about ...      0\n",
       "4  A mystery man gives Univision anchor Jorge Ram...      0"
      ]
     },
     "execution_count": 46,
     "metadata": {},
     "output_type": "execute_result"
    }
   ],
   "source": [
    "data.head(5)"
   ]
  },
  {
   "cell_type": "code",
   "execution_count": 47,
   "metadata": {
    "execution": {
     "iopub.execute_input": "2024-09-16T22:46:38.048614Z",
     "iopub.status.busy": "2024-09-16T22:46:38.048165Z",
     "iopub.status.idle": "2024-09-16T22:46:38.055664Z",
     "shell.execute_reply": "2024-09-16T22:46:38.054284Z",
     "shell.execute_reply.started": "2024-09-16T22:46:38.048571Z"
    },
    "trusted": true
   },
   "outputs": [],
   "source": [
    "def wordTransform(text):\n",
    "    text=text.lower()\n",
    "    text=re.sub(r'https?://\\S+|www\\.\\S+','',text)\n",
    "    text=re.sub(r'<.*?>','',text)\n",
    "    text=re.sub(r'[^\\w\\s]','',text)\n",
    "    text=re.sub(r'\\d','',text)\n",
    "    text=re.sub(r'\\n','',text)\n",
    "    \n",
    "    return text"
   ]
  },
  {
   "cell_type": "code",
   "execution_count": 48,
   "metadata": {
    "execution": {
     "iopub.execute_input": "2024-09-16T22:46:39.214438Z",
     "iopub.status.busy": "2024-09-16T22:46:39.213576Z",
     "iopub.status.idle": "2024-09-16T22:46:49.849552Z",
     "shell.execute_reply": "2024-09-16T22:46:49.848464Z",
     "shell.execute_reply.started": "2024-09-16T22:46:39.214388Z"
    },
    "trusted": true
   },
   "outputs": [],
   "source": [
    "data['text']=data['text'].apply(wordTransform)"
   ]
  },
  {
   "cell_type": "code",
   "execution_count": 49,
   "metadata": {
    "execution": {
     "iopub.execute_input": "2024-09-16T22:46:49.852189Z",
     "iopub.status.busy": "2024-09-16T22:46:49.851794Z",
     "iopub.status.idle": "2024-09-16T22:46:49.862330Z",
     "shell.execute_reply": "2024-09-16T22:46:49.861198Z",
     "shell.execute_reply.started": "2024-09-16T22:46:49.852147Z"
    },
    "trusted": true
   },
   "outputs": [
    {
     "data": {
      "text/plain": [
       "0        comedian and actor will ferrell has been cast ...\n",
       "1        reuters  texas governor greg abbott signed int...\n",
       "2        washington reuters  the us military will fight...\n",
       "3        rachel maddow noticed ted cruz bragging about ...\n",
       "4        a mystery man gives univision anchor jorge ram...\n",
       "                               ...                        \n",
       "44893    beirut reuters  tribal chiefs are organizing a...\n",
       "44894    madrid reuters  barcelona boss ernesto valverd...\n",
       "44895    wikileaks released an email from center for am...\n",
       "44896    the video from  is a little blurry but the aud...\n",
       "44897    tune in to the alternate current radio network...\n",
       "Name: text, Length: 44898, dtype: object"
      ]
     },
     "execution_count": 49,
     "metadata": {},
     "output_type": "execute_result"
    }
   ],
   "source": [
    "data['text']"
   ]
  },
  {
   "cell_type": "code",
   "execution_count": 50,
   "metadata": {
    "execution": {
     "iopub.execute_input": "2024-09-16T22:46:49.864331Z",
     "iopub.status.busy": "2024-09-16T22:46:49.863864Z",
     "iopub.status.idle": "2024-09-16T22:46:49.874595Z",
     "shell.execute_reply": "2024-09-16T22:46:49.873540Z",
     "shell.execute_reply.started": "2024-09-16T22:46:49.864263Z"
    },
    "trusted": true
   },
   "outputs": [],
   "source": [
    "X=data['text']\n",
    "y=data['Label']"
   ]
  },
  {
   "cell_type": "code",
   "execution_count": 51,
   "metadata": {
    "execution": {
     "iopub.execute_input": "2024-09-16T22:46:49.878290Z",
     "iopub.status.busy": "2024-09-16T22:46:49.877631Z",
     "iopub.status.idle": "2024-09-16T22:46:49.893992Z",
     "shell.execute_reply": "2024-09-16T22:46:49.892781Z",
     "shell.execute_reply.started": "2024-09-16T22:46:49.878236Z"
    },
    "trusted": true
   },
   "outputs": [],
   "source": [
    "x_train, x_test, y_train, y_test = train_test_split(X,y,test_size=0.3)"
   ]
  },
  {
   "cell_type": "code",
   "execution_count": 52,
   "metadata": {
    "execution": {
     "iopub.execute_input": "2024-09-16T22:46:49.895623Z",
     "iopub.status.busy": "2024-09-16T22:46:49.895243Z",
     "iopub.status.idle": "2024-09-16T22:46:49.901530Z",
     "shell.execute_reply": "2024-09-16T22:46:49.900517Z",
     "shell.execute_reply.started": "2024-09-16T22:46:49.895585Z"
    },
    "trusted": true
   },
   "outputs": [
    {
     "name": "stdout",
     "output_type": "stream",
     "text": [
      "(31428,)\n",
      "(13470,)\n"
     ]
    }
   ],
   "source": [
    "print(x_train.shape)\n",
    "print(x_test.shape)"
   ]
  },
  {
   "cell_type": "code",
   "execution_count": 53,
   "metadata": {
    "execution": {
     "iopub.execute_input": "2024-09-16T22:46:49.903290Z",
     "iopub.status.busy": "2024-09-16T22:46:49.902965Z",
     "iopub.status.idle": "2024-09-16T22:47:11.695344Z",
     "shell.execute_reply": "2024-09-16T22:47:11.694378Z",
     "shell.execute_reply.started": "2024-09-16T22:46:49.903255Z"
    },
    "trusted": true
   },
   "outputs": [],
   "source": [
    "vector = TfidfVectorizer()\n",
    "train_vector = vector.fit_transform(x_train)\n",
    "test_vector=vector.transform(x_test)"
   ]
  },
  {
   "cell_type": "code",
   "execution_count": 54,
   "metadata": {
    "execution": {
     "iopub.execute_input": "2024-09-16T22:47:11.696927Z",
     "iopub.status.busy": "2024-09-16T22:47:11.696581Z",
     "iopub.status.idle": "2024-09-16T22:47:11.704605Z",
     "shell.execute_reply": "2024-09-16T22:47:11.703197Z",
     "shell.execute_reply.started": "2024-09-16T22:47:11.696889Z"
    },
    "trusted": true
   },
   "outputs": [
    {
     "name": "stdout",
     "output_type": "stream",
     "text": [
      "(31428, 174659)\n"
     ]
    }
   ],
   "source": [
    "print(train_vector.shape)"
   ]
  },
  {
   "cell_type": "code",
   "execution_count": 55,
   "metadata": {
    "execution": {
     "iopub.execute_input": "2024-09-16T22:47:11.706461Z",
     "iopub.status.busy": "2024-09-16T22:47:11.706072Z",
     "iopub.status.idle": "2024-09-16T22:48:59.764833Z",
     "shell.execute_reply": "2024-09-16T22:48:59.763805Z",
     "shell.execute_reply.started": "2024-09-16T22:47:11.706422Z"
    },
    "trusted": true
   },
   "outputs": [
    {
     "name": "stdout",
     "output_type": "stream",
     "text": [
      "RF\n",
      "Logistic Regression\n"
     ]
    }
   ],
   "source": [
    "model_list,accuracy_list,y_pred_list = [], [], []\n",
    "models = []\n",
    "models.append(('RF', RandomForestClassifier()))\n",
    "models.append(('Logistic Regression', LogisticRegression()))\n",
    "for i,model in models:\n",
    "     model.fit(train_vector,y_train)\n",
    "     pred = model.predict(test_vector)\n",
    "     print(i)\n",
    "     model_list.append(i)\n",
    "     accuracy_list.append(accuracy_score(y_test, pred))\n",
    "     y_pred_list.append(pred)"
   ]
  },
  {
   "cell_type": "code",
   "execution_count": 58,
   "metadata": {
    "execution": {
     "iopub.execute_input": "2024-09-16T22:52:54.802149Z",
     "iopub.status.busy": "2024-09-16T22:52:54.801706Z",
     "iopub.status.idle": "2024-09-16T22:52:55.385614Z",
     "shell.execute_reply": "2024-09-16T22:52:55.384264Z",
     "shell.execute_reply.started": "2024-09-16T22:52:54.802110Z"
    },
    "trusted": true
   },
   "outputs": [
    {
     "data": {
      "image/png": "[encoded data removed]",
      "text/plain": [
       "<Figure size 1800x1000 with 4 Axes>"
      ]
     },
     "metadata": {},
     "output_type": "display_data"
    }
   ],
   "source": [
    "import matplotlib.pyplot as plt\n",
    "from sklearn.metrics import confusion_matrix, ConfusionMatrixDisplay\n",
    "\n",
    "\n",
    "num_models = len(model_list)\n",
    "\n",
    "fig, axes = plt.subplots(1, num_models,figsize=(18, 10))  \n",
    "if num_models == 1:\n",
    "    axes = [axes]  \n",
    "\n",
    "# Plot confusion matrix \n",
    "for i, (ax, model_name) in enumerate(zip(axes, model_list)):\n",
    "    cm = confusion_matrix(y_test, y_pred_list[i])\n",
    "    disp = ConfusionMatrixDisplay(confusion_matrix=cm)\n",
    "    disp.plot(ax=ax, cmap=plt.cm.Blues)\n",
    "    ax.set_title(f'{model_name} Confusion Matrix')\n",
    "\n",
    "plt.show()\n"
   ]
  },
  {
   "cell_type": "code",
   "execution_count": 65,
   "metadata": {},
   "outputs": [
    {
     "name": "stdout",
     "output_type": "stream",
     "text": [
      "RF: Prediction for 'On January 20, Donald Trump was sworn in as the 45th President of the United States. His inauguration followed a divisive campaign and marked a significant shift in U.S. politics.' is True\n",
      "RF: Prediction for 'A bizarre conspiracy theory dubbed pizzagate is making waves again in 2017, spreading across social media platforms and fueling baseless claims about a child trafficking ring tied to prominent Democratic politicians, including Hillary Clinton' is Fake\n",
      "Logistic Regression: Prediction for 'On January 20, Donald Trump was sworn in as the 45th President of the United States. His inauguration followed a divisive campaign and marked a significant shift in U.S. politics.' is True\n",
      "Logistic Regression: Prediction for 'A bizarre conspiracy theory dubbed pizzagate is making waves again in 2017, spreading across social media platforms and fueling baseless claims about a child trafficking ring tied to prominent Democratic politicians, including Hillary Clinton' is Fake\n"
     ]
    }
   ],
   "source": [
    "test_text = \"On January 20, Donald Trump was sworn in as the 45th President of the United States. His inauguration followed a divisive campaign and marked a significant shift in U.S. politics.\"\n",
    "test_text2=\"A bizarre conspiracy theory dubbed pizzagate is making waves again in 2017, spreading across social media platforms and fueling baseless claims about a child trafficking ring tied to prominent Democratic politicians, including Hillary Clinton\"\n",
    "preprocessed_text = wordTransform(test_text)\n",
    "preprocessed_text2 = wordTransform(test_text2)\n",
    "\n",
    "# Transform the input text into a vector\n",
    "test_vector = vector.transform([preprocessed_text])\n",
    "test_vector2=vector.transform([preprocessed_text2])\n",
    "\n",
    "# Predict with each trained model\n",
    "for i, model in models:\n",
    "    prediction = model.predict(test_vector)\n",
    "    print(f\"{i}: Prediction for '{test_text}' is {'True' if prediction[0] == 1 else 'Fake'}\")\n",
    "    prediction = model.predict(test_vector2)\n",
    "    print(f\"{i}: Prediction for '{test_text2}' is {'True' if prediction[0] == 1 else 'Fake'}\")"
   ]
  },
  {
   "cell_type": "code",
   "execution_count": null,
   "metadata": {},
   "outputs": [
    {
     "name": "stdout",
     "output_type": "stream",
     "text": [
      "0.9901262063845583\n",
      "0.9868596881959911\n"
     ]
    }
   ],
   "source": [
    "#random forest\n",
    "print(accuracy_score(y_test,y_pred_list[0]))\n",
    "#logistic regression\n",
    "print(accuracy_score(y_test,y_pred_list[1]))\n"
   ]
  },
  {
   "cell_type": "code",
   "execution_count": null,
   "metadata": {},
   "outputs": [],
   "source": []
  }
 ],
 "metadata": {
  "kaggle": {
   "accelerator": "none",
   "dataSources": [],
   "isGpuEnabled": false,
   "isInternetEnabled": false,
   "language": "python",
   "sourceType": "notebook"
  },
  "kernelspec": {
   "display_name": "Python 3",
   "language": "python",
   "name": "python3"
  },
  "language_info": {
   "codemirror_mode": {
    "name": "ipython",
    "version": 3
   },
   "file_extension": ".py",
   "mimetype": "text/x-python",
   "name": "python",
   "nbconvert_exporter": "python",
   "pygments_lexer": "ipython3",
   "version": "3.12.4"
  }
 },
 "nbformat": 4,
 "nbformat_minor": 4
}
